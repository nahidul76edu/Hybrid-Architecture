{
  "nbformat": 4,
  "nbformat_minor": 0,
  "metadata": {
    "colab": {
      "name": "CNN+LSTM hybrid.ipynb",
      "provenance": [],
      "collapsed_sections": []
    },
    "kernelspec": {
      "name": "python3",
      "display_name": "Python 3"
    },
    "language_info": {
      "name": "python"
    }
  },
  "cells": [
    {
      "cell_type": "code",
      "metadata": {
        "id": "cXQa2Yry-Ykc"
      },
      "source": [
        "import numpy as np\n",
        "from keras.models import Sequential\n",
        "from keras.models import Model\n",
        "from keras.layers import Input, Dense, LSTM, Dropout, Conv2D, MaxPooling2D, Flatten, Activation\n",
        "from keras.layers.wrappers import TimeDistributed"
      ],
      "execution_count": null,
      "outputs": []
    },
    {
      "cell_type": "code",
      "metadata": {
        "id": "2zPGHZ-u-ZiY"
      },
      "source": [
        "training_data = np.load('tarin.npy', allow_pickle=True)\n",
        "x_train=np.array([i[0] for i in training_data])\n",
        "y_train=np.array([i[1] for i in training_data])\n",
        "x_train=x_train/255\n",
        "\n",
        "testing_data = np.load('test', allow_pickle=True)\n",
        "x_test=np.array([i[0] for i in testing_data])\n",
        "y_test=np.array([i[1] for i in testing_data])\n",
        "x_test=x_test/255"
      ],
      "execution_count": null,
      "outputs": []
    },
    {
      "cell_type": "code",
      "metadata": {
        "id": "H3N1Dhky-fLG"
      },
      "source": [
        "model = Sequential()\n",
        "model.add(Conv2D(64, (3, 3),input_shape=(224, 224, 3)))\n",
        "model.add(MaxPooling2D(pool_size=(3, 3)))\n",
        "model.add(Activation('relu'))\n",
        " \n",
        "model.add(Conv2D(256, (3, 3)))\n",
        "model.add(MaxPooling2D(pool_size=(3, 3)))\n",
        "model.add(Activation('relu'))\n",
        " \n",
        "# extract features and dropout \n",
        "model.add(TimeDistributed(Flatten()))\n",
        "#model.add(Dropout(0.5))\n",
        " \n",
        "# input to LSTM\n",
        "model.add(LSTM(256, return_sequences=True))\n",
        "model.add(LSTM(128, return_sequences=True))\n",
        "model.add(LSTM(64, return_sequences=False, dropout=0.5))\n",
        " \n",
        "# classifier with sigmoid activation for multilabel\n",
        "model.add(Dense(10, activation='sigmoid'))\n",
        " \n",
        "model.summary()"
      ],
      "execution_count": null,
      "outputs": []
    },
    {
      "cell_type": "code",
      "metadata": {
        "id": "-49g2CST-fV_"
      },
      "source": [
        "model.compile(optimizer='adam', loss='categorical_crossentropy', metrics=['accuracy'])\n",
        "history = model.fit(x_train, y_train, epochs=20, validation_data=(x_test, y_test))"
      ],
      "execution_count": null,
      "outputs": []
    },
    {
      "cell_type": "code",
      "metadata": {
        "id": "8_4zEg4w-pzm"
      },
      "source": [
        "weight_origin_0=model.layers[0].get_weights()[0]\n",
        "weight_bias_0=model.layers[0].get_weights()[1]"
      ],
      "execution_count": null,
      "outputs": []
    },
    {
      "cell_type": "code",
      "metadata": {
        "id": "MEYV9VVB-q1u"
      },
      "source": [
        "#Additional Way#"
      ],
      "execution_count": null,
      "outputs": []
    },
    {
      "cell_type": "code",
      "metadata": {
        "id": "8Wy4Vfj2-vO4"
      },
      "source": [
        "import numpy as np\n",
        "import matplotlib.pyplot as plt\n",
        "##################################\n",
        "from keras.models import Sequential\n",
        "from keras.models import Model\n",
        "from keras.layers import Input, Dense, Lambda, LSTM, Dropout, Conv2D, MaxPooling2D, Flatten \n",
        "from keras.layers.wrappers import TimeDistributed\n",
        "#####################################\n",
        "from keras.applications.vgg16 import VGG16\n",
        "from keras.applications.vgg16 import preprocess_input\n",
        "from keras.preprocessing import image"
      ],
      "execution_count": null,
      "outputs": []
    },
    {
      "cell_type": "code",
      "metadata": {
        "id": "s2nJw7Yw-vV9"
      },
      "source": [
        "model = Sequential()\n",
        "model.add(TimeDistributed(Conv2D(96, (11, 11),strides = (4,4), activation = 'relu'), input_shape=(10, 225, 225, 3)))\n",
        "model.add(TimeDistributed(MaxPooling2D((3, 3), strides = (2,2))))\n",
        "\n",
        "model.add(TimeDistributed(Conv2D(128, (5, 5), activation='relu')))\n",
        "model.add(TimeDistributed(MaxPooling2D((3, 3), strides = (2,2))))\n",
        "\n",
        "\n",
        "model.add(TimeDistributed(Conv2D(384, (3, 3), activation='relu')))\n",
        "\n",
        "#model.add(layers.MaxPooling2D((2, 2)))\n",
        "model.add(TimeDistributed(Conv2D(192, (3, 3), activation='relu')))\n",
        "model.add(TimeDistributed(ZeroPadding2D(padding = (1,1))))\n",
        "\n",
        "model.add(TimeDistributed(Conv2D(128, (3, 3), activation='relu')))\n",
        "model.add(TimeDistributed(MaxPooling2D((3, 3), strides = (2,2))))\n",
        "\n",
        "#model.add(layers.MaxPooling2D((2, 2)))\n",
        "model.add(TimeDistributed(Flatten()))\n",
        "model.add(TimeDistributed(Dense(4096, activation='relu')))\n",
        "\n",
        "model.add(LSTM(256, return_sequences = True))\n",
        "\n",
        "model.add(TimeDistributed(Dense(4096, activation='relu')))\n",
        "model.add(TimeDistributed(Dropout(0.5)))\n",
        "\n",
        "model.add(LSTM(256, return_sequences = True))\n",
        "\n",
        "model.add(Dense(101, activation='relu'))\n",
        "model.add(Dropout(0.5))\n",
        "\n",
        "model.add(Dense(1, activation='sigmoid'))\n",
        "\n",
        "#prediction = Activation('softmax', name='softmax')(dense_4)\n",
        "#model = Model(input=inputs, output=prediction)\n",
        "model.summary()\n",
        "opt = keras.optimizers.rmsprop(lr=1e-4, decay=1e-6)\n",
        " # Compling the model with the given optimizer\n",
        "model.compile(loss='binary_crossentropy',\n",
        "                  optimizer=opt,\n",
        "                  metrics=['accuracy'])\n",
        "\n",
        "model.fit(X_train, y_train,\n",
        "          batch_size=batch_size,\n",
        "          epochs=1)"
      ],
      "execution_count": null,
      "outputs": []
    }
  ]
}