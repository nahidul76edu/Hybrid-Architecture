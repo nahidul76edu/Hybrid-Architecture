{
  "nbformat": 4,
  "nbformat_minor": 0,
  "metadata": {
    "colab": {
      "name": "C-KNN Architecture.ipynb",
      "provenance": [],
      "collapsed_sections": []
    },
    "kernelspec": {
      "name": "python3",
      "display_name": "Python 3"
    },
    "language_info": {
      "name": "python"
    }
  },
  "cells": [
    {
      "cell_type": "code",
      "metadata": {
        "id": "JYEO_fPY7dLx"
      },
      "source": [
        "import numpy as np\n",
        "from sklearn.model_selection import train_test_split\n",
        "#from sklearn.svm import SVC\n",
        "from sklearn.neighbors import KNeighborsClassifier\n",
        "#from sklearn.model_selection import GridSearchCV\n",
        "from sklearn.metrics import confusion_matrix\n",
        "from sklearn.metrics import plot_confusion_matrix\n",
        "import matplotlib.pyplot as plt\n",
        "from sklearn import metrics\n",
        "from sklearn.metrics import f1_score\n",
        "from tensorflow import keras\n",
        "import keras\n",
        "from tensorflow.keras import layers\n",
        "from tensorflow.keras.layers import Conv2D, MaxPooling2D, Dense, Flatten, Activation\n",
        "from keras.layers import Dense, Activation, Flatten, Dropout\n",
        "from keras.layers import merge, Input\n",
        "from keras.models import Model\n",
        "from keras.models import Sequential"
      ],
      "execution_count": null,
      "outputs": []
    },
    {
      "cell_type": "code",
      "metadata": {
        "id": "zRXYxbi77vFj"
      },
      "source": [
        "training_data = np.load('train.npy', allow_pickle=True)\n",
        "x_train=np.array([i[0] for i in training_data])\n",
        "y_train=np.array([i[1] for i in training_data])\n",
        "x_train=x_train/255\n",
        "\n",
        "testing_data = np.load('test.npy', allow_pickle=True)\n",
        "x_test=np.array([i[0] for i in testing_data])\n",
        "y_test=np.array([i[1] for i in testing_data])\n",
        "x_test=x_test/255"
      ],
      "execution_count": null,
      "outputs": []
    },
    {
      "cell_type": "code",
      "metadata": {
        "id": "m9oOkWdB7vIf"
      },
      "source": [
        "y_train_1=[]\n",
        "for i in y_train:\n",
        "  if i[0]==0 and i[1]==1:\n",
        "    y_train_1.append(0)\n",
        "\n",
        "y_test_1=[]\n",
        "for i in y_test:\n",
        "  if i[0]==1 and i[1]==0:\n",
        "    y_test_1.append(1)"
      ],
      "execution_count": null,
      "outputs": []
    },
    {
      "cell_type": "code",
      "metadata": {
        "id": "AF-9MHMU70G4"
      },
      "source": [
        "X = np.concatenate((x_train, x_test))\n",
        "Y = np.concatenate((y_train_1, y_test_1))\n",
        "\n",
        "# Splitting the dataset into the Training set and Test set\n",
        "x_train, x_test, y_train, y_test = train_test_split(X, Y, test_size = 0.30, random_state = 0)"
      ],
      "execution_count": null,
      "outputs": []
    },
    {
      "cell_type": "code",
      "metadata": {
        "id": "rzNa90AK70Kj"
      },
      "source": [
        "model = Sequential()\n",
        "\n",
        "model.add(Conv2D(32, (5, 5), padding='same', input_shape=(224, 224, 3)))\n",
        "model.add(Activation('relu'))\n",
        "model.add(MaxPooling2D(pool_size=(3, 3), name='feature_layer1'))\n",
        "model.add(Dropout(0.6))\n",
        "\n",
        "model.add(Conv2D(64, (3, 3), padding='same'))\n",
        "model.add(Activation('relu'))\n",
        "model.add(MaxPooling2D(pool_size=(3, 3), name='feature_layer2'))\n",
        "\n",
        "new_model2 = Model(inputs = model.input,outputs=model.get_layer('feature_layer2').output)\n",
        "\n",
        "###################################################################################################\n",
        "train_x = new_model2.predict(x_train)\n",
        "test_x = new_model2.predict(x_test)\n",
        "###################################################################################################\n",
        "\n",
        "x_train1 = train_x.reshape(train_x.shape[0], train_x.shape[1]*train_x.shape[2]*train_x.shape[3])\n",
        "x_test1 = test_x.reshape(test_x.shape[0], test_x.shape[1]*test_x.shape[2]*test_x.shape[3])\n",
        "\n",
        "#x_train2 = preprocessing.normalize(x_train1, norm='l1')\n",
        "#x_test2 = preprocessing.normalize(x_test1, norm='l1')\n",
        "\n",
        "####################################################################################################\n",
        "\n",
        "knn = KNeighborsClassifier(algorithm='auto', metric='euclidean', n_neighbors=9,  weights='uniform')\n",
        "knn.fit(x_train1, y_train)\n",
        "#predictions on test data\n",
        "\n",
        "Y_Pred = knn.predict(x_test1)\n",
        "\n",
        "print('accuracy:', metrics.accuracy_score(y_test, Y_Pred))"
      ],
      "execution_count": null,
      "outputs": []
    },
    {
      "cell_type": "code",
      "metadata": {
        "id": "uFWwhdjr77gz"
      },
      "source": [
        "cm = confusion_matrix(y_test, Y_Pred)\n",
        "cm"
      ],
      "execution_count": null,
      "outputs": []
    },
    {
      "cell_type": "code",
      "metadata": {
        "id": "4xkkYaW-78s-"
      },
      "source": [
        "print('accuracy:', metrics.accuracy_score(y_test, Y_Pred))\n",
        "print('precision:', metrics.precision_score(y_test, Y_Pred))\n",
        "print('recall:',metrics.recall_score(y_test, Y_Pred))\n",
        "print('f1_score:',metrics.f1_score(y_test, Y_Pred))\n",
        "print('kappa:',metrics.cohen_kappa_score(y_test, Y_Pred))"
      ],
      "execution_count": null,
      "outputs": []
    }
  ]
}